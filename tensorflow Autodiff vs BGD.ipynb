{
 "cells": [
  {
   "cell_type": "markdown",
   "metadata": {},
   "source": [
    "<center><b>Chatura Samarasinghe<br>Batch Gradient Descent vs. Autodiff Tensorflow and Tensorboard</b></center>"
   ]
  },
  {
   "cell_type": "code",
   "execution_count": 1,
   "metadata": {},
   "outputs": [],
   "source": [
    "import tensorflow as tf\n",
    "from sklearn.datasets import fetch_california_housing"
   ]
  },
  {
   "cell_type": "code",
   "execution_count": 2,
   "metadata": {},
   "outputs": [],
   "source": [
    "from datetime import datetime\n",
    "now = datetime.utcnow().strftime(\"%Y%m%d%H%M%S\") \n",
    "root_logdir = \"tf_logs\"\n",
    "logdir = \"{}/run-{}/\".format(root_logdir, now)"
   ]
  },
  {
   "cell_type": "code",
   "execution_count": 3,
   "metadata": {},
   "outputs": [],
   "source": [
    "housing = fetch_california_housing()\n",
    "m,n = housing.data.shape"
   ]
  },
  {
   "cell_type": "markdown",
   "metadata": {},
   "source": [
    "adding a bias"
   ]
  },
  {
   "cell_type": "code",
   "execution_count": 4,
   "metadata": {},
   "outputs": [],
   "source": [
    "import numpy as np\n",
    "housing_data_plus_bias = np.c_[np.ones((m,1)),housing.data]"
   ]
  },
  {
   "cell_type": "markdown",
   "metadata": {},
   "source": [
    "setup the variables"
   ]
  },
  {
   "cell_type": "code",
   "execution_count": 5,
   "metadata": {},
   "outputs": [],
   "source": [
    "from sklearn.preprocessing import StandardScaler\n",
    "\n",
    "def setup_variables():\n",
    "    X = tf.constant(housing_data_plus_bias, dtype=tf.float32, name=\"X\")\n",
    "    y = tf.constant(housing.target.reshape(-1,1), dtype=tf.float32, name=\"y\")\n",
    "    \n",
    "    #normalizing data\n",
    "    scaler = StandardScaler()\n",
    "    scaled_housing_data = scaler.fit_transform(housing.data)\n",
    "    scaled_housing_data_plus_bias = np.c_[np.ones((m, 1)), scaled_housing_data]\n",
    "    X = tf.constant(scaled_housing_data_plus_bias, dtype=tf.float32, name=\"X\")\n",
    "    \n",
    "    return X,y,scaled_housing_data_plus_bias"
   ]
  },
  {
   "cell_type": "code",
   "execution_count": 6,
   "metadata": {},
   "outputs": [],
   "source": [
    "def fetch_batch(epoch, batch_index, batch_size):\n",
    "    np.random.seed(epoch * n_batches + batch_index)  # not shown in the book\n",
    "    indices = np.random.randint(m, size=batch_size)  # not shown\n",
    "    X_batch = scaled_housing_data_plus_bias[indices] # not shown\n",
    "    y_batch = housing.target.reshape(-1, 1)[indices] # not shown\n",
    "    return X_batch, y_batch"
   ]
  },
  {
   "cell_type": "code",
   "execution_count": 7,
   "metadata": {},
   "outputs": [],
   "source": [
    "n_epochs = 10\n",
    "batch_size = 100\n",
    "n_batches = int(np.ceil(m / batch_size))"
   ]
  },
  {
   "cell_type": "markdown",
   "metadata": {},
   "source": [
    "<b>Gradient Descent</b>"
   ]
  },
  {
   "cell_type": "markdown",
   "metadata": {},
   "source": [
    "<b>Batch Gradient Descent</b>"
   ]
  },
  {
   "cell_type": "code",
   "execution_count": 8,
   "metadata": {},
   "outputs": [],
   "source": [
    "tf.reset_default_graph()"
   ]
  },
  {
   "cell_type": "code",
   "execution_count": 9,
   "metadata": {},
   "outputs": [],
   "source": [
    "X,y,scaled_housing_data_plus_bias = setup_variables()"
   ]
  },
  {
   "cell_type": "code",
   "execution_count": 10,
   "metadata": {},
   "outputs": [],
   "source": [
    "n_epochs = 1000 \n",
    "learning_rate = 0.01\n",
    "\n",
    "# assigning random values to theta intially\n",
    "theta = tf.Variable(tf.random_uniform([n + 1, 1], -1.0, 1.0), dtype=tf.float32, name=\"theta\")\n",
    "y_pred = tf.matmul(X, theta, name=\"predictions\")\n",
    "error = y_pred - y\n",
    "mse = tf.reduce_mean(tf.square(error), name=\"mse\")"
   ]
  },
  {
   "cell_type": "code",
   "execution_count": 11,
   "metadata": {},
   "outputs": [],
   "source": [
    "# Graph\n",
    "\n",
    "X = tf.placeholder(tf.float32, shape=(None, n + 1), name=\"X\")\n",
    "y = tf.placeholder(tf.float32, shape=(None, 1), name=\"y\")\n",
    "theta = tf.Variable(tf.random_uniform([n + 1, 1], -1.0, 1.0, seed=42), name=\"theta\")\n",
    "y_pred = tf.matmul(X, theta, name=\"predictions\")\n",
    "error = y_pred - y\n",
    "mse = tf.reduce_mean(tf.square(error), name=\"mse\")"
   ]
  },
  {
   "cell_type": "code",
   "execution_count": 12,
   "metadata": {},
   "outputs": [],
   "source": [
    "gradients = 2/m * tf.matmul(tf.transpose(X), error)\n",
    "training_op = tf.assign (theta, theta - learning_rate * gradients)"
   ]
  },
  {
   "cell_type": "code",
   "execution_count": 13,
   "metadata": {},
   "outputs": [],
   "source": [
    "# for displaying the graph\n",
    "mse_summary = tf.summary.scalar('MSE_-_Batch_Gradient_Descent', mse)\n",
    "file_writer = tf.summary.FileWriter(logdir, tf.get_default_graph())"
   ]
  },
  {
   "cell_type": "code",
   "execution_count": 14,
   "metadata": {},
   "outputs": [],
   "source": [
    "init = tf.global_variables_initializer()\n",
    "\n",
    "with tf.Session() as sess:\n",
    "    sess.run(init)\n",
    "    \n",
    "    for epoch in range(n_epochs):\n",
    "        for batch_index in range(n_batches):\n",
    "            X_batch, y_batch = fetch_batch(epoch, batch_index, batch_size)\n",
    "            if batch_index % 10 == 0:\n",
    "                summary_str = mse_summary.eval(feed_dict={X: X_batch, y: y_batch})\n",
    "                step = epoch * n_batches + batch_index\n",
    "                file_writer.add_summary(summary_str, step)\n",
    "            sess.run(training_op, feed_dict={X: X_batch, y: y_batch})\n",
    "        \n",
    "    max_theta = theta.eval()"
   ]
  },
  {
   "cell_type": "code",
   "execution_count": 15,
   "metadata": {},
   "outputs": [],
   "source": [
    "file_writer.flush()\n",
    "file_writer.close()"
   ]
  },
  {
   "cell_type": "markdown",
   "metadata": {},
   "source": [
    "Operations list"
   ]
  },
  {
   "cell_type": "code",
   "execution_count": 16,
   "metadata": {},
   "outputs": [
    {
     "data": {
      "text/plain": [
       "[<tf.Operation 'X' type=Const>,\n",
       " <tf.Operation 'y' type=Const>,\n",
       " <tf.Operation 'X_1' type=Const>,\n",
       " <tf.Operation 'random_uniform/shape' type=Const>,\n",
       " <tf.Operation 'random_uniform/min' type=Const>,\n",
       " <tf.Operation 'random_uniform/max' type=Const>,\n",
       " <tf.Operation 'random_uniform/RandomUniform' type=RandomUniform>,\n",
       " <tf.Operation 'random_uniform/sub' type=Sub>,\n",
       " <tf.Operation 'random_uniform/mul' type=Mul>,\n",
       " <tf.Operation 'random_uniform' type=Add>,\n",
       " <tf.Operation 'theta' type=VariableV2>,\n",
       " <tf.Operation 'theta/Assign' type=Assign>,\n",
       " <tf.Operation 'theta/read' type=Identity>,\n",
       " <tf.Operation 'predictions' type=MatMul>,\n",
       " <tf.Operation 'sub' type=Sub>,\n",
       " <tf.Operation 'Square' type=Square>,\n",
       " <tf.Operation 'Const' type=Const>,\n",
       " <tf.Operation 'mse' type=Mean>,\n",
       " <tf.Operation 'X_2' type=Placeholder>,\n",
       " <tf.Operation 'y_1' type=Placeholder>,\n",
       " <tf.Operation 'random_uniform_1/shape' type=Const>,\n",
       " <tf.Operation 'random_uniform_1/min' type=Const>,\n",
       " <tf.Operation 'random_uniform_1/max' type=Const>,\n",
       " <tf.Operation 'random_uniform_1/RandomUniform' type=RandomUniform>,\n",
       " <tf.Operation 'random_uniform_1/sub' type=Sub>,\n",
       " <tf.Operation 'random_uniform_1/mul' type=Mul>,\n",
       " <tf.Operation 'random_uniform_1' type=Add>,\n",
       " <tf.Operation 'theta_1' type=VariableV2>,\n",
       " <tf.Operation 'theta_1/Assign' type=Assign>,\n",
       " <tf.Operation 'theta_1/read' type=Identity>,\n",
       " <tf.Operation 'predictions_1' type=MatMul>,\n",
       " <tf.Operation 'sub_1' type=Sub>,\n",
       " <tf.Operation 'Square_1' type=Square>,\n",
       " <tf.Operation 'Const_1' type=Const>,\n",
       " <tf.Operation 'mse_1' type=Mean>,\n",
       " <tf.Operation 'transpose/Rank' type=Rank>,\n",
       " <tf.Operation 'transpose/sub/y' type=Const>,\n",
       " <tf.Operation 'transpose/sub' type=Sub>,\n",
       " <tf.Operation 'transpose/Range/start' type=Const>,\n",
       " <tf.Operation 'transpose/Range/delta' type=Const>,\n",
       " <tf.Operation 'transpose/Range' type=Range>,\n",
       " <tf.Operation 'transpose/sub_1' type=Sub>,\n",
       " <tf.Operation 'transpose' type=Transpose>,\n",
       " <tf.Operation 'MatMul' type=MatMul>,\n",
       " <tf.Operation 'mul/x' type=Const>,\n",
       " <tf.Operation 'mul' type=Mul>,\n",
       " <tf.Operation 'mul_1/x' type=Const>,\n",
       " <tf.Operation 'mul_1' type=Mul>,\n",
       " <tf.Operation 'sub_2' type=Sub>,\n",
       " <tf.Operation 'Assign' type=Assign>,\n",
       " <tf.Operation 'MSE_-_Batch_Gradient_Descent/tags' type=Const>,\n",
       " <tf.Operation 'MSE_-_Batch_Gradient_Descent' type=ScalarSummary>,\n",
       " <tf.Operation 'init' type=NoOp>]"
      ]
     },
     "execution_count": 16,
     "metadata": {},
     "output_type": "execute_result"
    }
   ],
   "source": [
    "tf.get_default_graph().get_operations()"
   ]
  },
  {
   "cell_type": "markdown",
   "metadata": {},
   "source": [
    "<b>Autodiff</b>"
   ]
  },
  {
   "cell_type": "code",
   "execution_count": 17,
   "metadata": {},
   "outputs": [],
   "source": [
    "tf.reset_default_graph()"
   ]
  },
  {
   "cell_type": "code",
   "execution_count": 18,
   "metadata": {},
   "outputs": [],
   "source": [
    "X,y, scaled_housing_data_plus_bias = setup_variables()"
   ]
  },
  {
   "cell_type": "code",
   "execution_count": 19,
   "metadata": {},
   "outputs": [],
   "source": [
    "X = tf.placeholder(tf.float32, shape=(None, n + 1), name=\"X\")\n",
    "y = tf.placeholder(tf.float32, shape=(None, 1), name=\"y\")\n",
    "\n",
    "# assigning random values to theta intially\n",
    "theta = tf.Variable(tf.random_uniform([n + 1, 1], -1.0, 1.0), dtype=tf.float32, name=\"theta\")\n",
    "y_pred = tf.matmul(X, theta, name=\"predictions\")\n",
    "error = y_pred - y\n",
    "mse = tf.reduce_mean(tf.square(error), name=\"mse\")"
   ]
  },
  {
   "cell_type": "code",
   "execution_count": 20,
   "metadata": {},
   "outputs": [],
   "source": [
    "gradients = tf.gradients(mse, [theta])[0]\n",
    "training_op = tf.assign (theta, theta - learning_rate * gradients)"
   ]
  },
  {
   "cell_type": "code",
   "execution_count": 21,
   "metadata": {},
   "outputs": [],
   "source": [
    "mse_summary = tf.summary.scalar(\"MSE_-_Autodiff\",mse)\n",
    "file_writer = tf.summary.FileWriter(logdir, tf.get_default_graph())"
   ]
  },
  {
   "cell_type": "code",
   "execution_count": 22,
   "metadata": {},
   "outputs": [],
   "source": [
    "init = tf.global_variables_initializer()\n",
    "\n",
    "with tf.Session() as sess:\n",
    "    sess.run(init)\n",
    "    \n",
    "    for epoch in range(n_epochs):\n",
    "        for batch_index in range(n_batches):\n",
    "            X_batch, y_batch = fetch_batch(epoch, batch_index, batch_size)\n",
    "            if batch_index % 10 == 0:\n",
    "                summary_str = mse_summary.eval(feed_dict={X: X_batch, y: y_batch})\n",
    "                step = epoch * n_batches + batch_index\n",
    "                file_writer.add_summary(summary_str, step)\n",
    "            sess.run(training_op, feed_dict={X: X_batch, y: y_batch})\n",
    "        \n",
    "    max_theta = theta.eval()"
   ]
  },
  {
   "cell_type": "code",
   "execution_count": 23,
   "metadata": {},
   "outputs": [],
   "source": [
    "file_writer.flush()\n",
    "file_writer.close()"
   ]
  },
  {
   "cell_type": "markdown",
   "metadata": {},
   "source": [
    "Operations List"
   ]
  },
  {
   "cell_type": "code",
   "execution_count": 24,
   "metadata": {},
   "outputs": [
    {
     "data": {
      "text/plain": [
       "[<tf.Operation 'X' type=Const>,\n",
       " <tf.Operation 'y' type=Const>,\n",
       " <tf.Operation 'X_1' type=Const>,\n",
       " <tf.Operation 'X_2' type=Placeholder>,\n",
       " <tf.Operation 'y_1' type=Placeholder>,\n",
       " <tf.Operation 'random_uniform/shape' type=Const>,\n",
       " <tf.Operation 'random_uniform/min' type=Const>,\n",
       " <tf.Operation 'random_uniform/max' type=Const>,\n",
       " <tf.Operation 'random_uniform/RandomUniform' type=RandomUniform>,\n",
       " <tf.Operation 'random_uniform/sub' type=Sub>,\n",
       " <tf.Operation 'random_uniform/mul' type=Mul>,\n",
       " <tf.Operation 'random_uniform' type=Add>,\n",
       " <tf.Operation 'theta' type=VariableV2>,\n",
       " <tf.Operation 'theta/Assign' type=Assign>,\n",
       " <tf.Operation 'theta/read' type=Identity>,\n",
       " <tf.Operation 'predictions' type=MatMul>,\n",
       " <tf.Operation 'sub' type=Sub>,\n",
       " <tf.Operation 'Square' type=Square>,\n",
       " <tf.Operation 'Const' type=Const>,\n",
       " <tf.Operation 'mse' type=Mean>,\n",
       " <tf.Operation 'gradients/Shape' type=Const>,\n",
       " <tf.Operation 'gradients/grad_ys_0' type=Const>,\n",
       " <tf.Operation 'gradients/Fill' type=Fill>,\n",
       " <tf.Operation 'gradients/mse_grad/Reshape/shape' type=Const>,\n",
       " <tf.Operation 'gradients/mse_grad/Reshape' type=Reshape>,\n",
       " <tf.Operation 'gradients/mse_grad/Shape' type=Shape>,\n",
       " <tf.Operation 'gradients/mse_grad/Tile' type=Tile>,\n",
       " <tf.Operation 'gradients/mse_grad/Shape_1' type=Shape>,\n",
       " <tf.Operation 'gradients/mse_grad/Shape_2' type=Const>,\n",
       " <tf.Operation 'gradients/mse_grad/Const' type=Const>,\n",
       " <tf.Operation 'gradients/mse_grad/Prod' type=Prod>,\n",
       " <tf.Operation 'gradients/mse_grad/Const_1' type=Const>,\n",
       " <tf.Operation 'gradients/mse_grad/Prod_1' type=Prod>,\n",
       " <tf.Operation 'gradients/mse_grad/Maximum/y' type=Const>,\n",
       " <tf.Operation 'gradients/mse_grad/Maximum' type=Maximum>,\n",
       " <tf.Operation 'gradients/mse_grad/floordiv' type=FloorDiv>,\n",
       " <tf.Operation 'gradients/mse_grad/Cast' type=Cast>,\n",
       " <tf.Operation 'gradients/mse_grad/truediv' type=RealDiv>,\n",
       " <tf.Operation 'gradients/Square_grad/mul/x' type=Const>,\n",
       " <tf.Operation 'gradients/Square_grad/mul' type=Mul>,\n",
       " <tf.Operation 'gradients/Square_grad/mul_1' type=Mul>,\n",
       " <tf.Operation 'gradients/sub_grad/Shape' type=Shape>,\n",
       " <tf.Operation 'gradients/sub_grad/Shape_1' type=Shape>,\n",
       " <tf.Operation 'gradients/sub_grad/BroadcastGradientArgs' type=BroadcastGradientArgs>,\n",
       " <tf.Operation 'gradients/sub_grad/Sum' type=Sum>,\n",
       " <tf.Operation 'gradients/sub_grad/Reshape' type=Reshape>,\n",
       " <tf.Operation 'gradients/sub_grad/Sum_1' type=Sum>,\n",
       " <tf.Operation 'gradients/sub_grad/Neg' type=Neg>,\n",
       " <tf.Operation 'gradients/sub_grad/Reshape_1' type=Reshape>,\n",
       " <tf.Operation 'gradients/predictions_grad/MatMul' type=MatMul>,\n",
       " <tf.Operation 'gradients/predictions_grad/MatMul_1' type=MatMul>,\n",
       " <tf.Operation 'mul/x' type=Const>,\n",
       " <tf.Operation 'mul' type=Mul>,\n",
       " <tf.Operation 'sub_1' type=Sub>,\n",
       " <tf.Operation 'Assign' type=Assign>,\n",
       " <tf.Operation 'MSE_-_Autodiff/tags' type=Const>,\n",
       " <tf.Operation 'MSE_-_Autodiff' type=ScalarSummary>,\n",
       " <tf.Operation 'init' type=NoOp>]"
      ]
     },
     "execution_count": 24,
     "metadata": {},
     "output_type": "execute_result"
    }
   ],
   "source": [
    "tf.get_default_graph().get_operations()"
   ]
  },
  {
   "cell_type": "code",
   "execution_count": null,
   "metadata": {},
   "outputs": [],
   "source": []
  }
 ],
 "metadata": {
  "kernelspec": {
   "display_name": "Python 3",
   "language": "python",
   "name": "python3"
  },
  "language_info": {
   "codemirror_mode": {
    "name": "ipython",
    "version": 3
   },
   "file_extension": ".py",
   "mimetype": "text/x-python",
   "name": "python",
   "nbconvert_exporter": "python",
   "pygments_lexer": "ipython3",
   "version": "3.6.3"
  }
 },
 "nbformat": 4,
 "nbformat_minor": 2
}
