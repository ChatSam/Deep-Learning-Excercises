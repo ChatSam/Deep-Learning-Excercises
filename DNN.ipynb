{
 "cells": [
  {
   "cell_type": "markdown",
   "metadata": {},
   "source": [
    "<center><b>Chatura Samarasinghe <br> Deep Neural Nets</b></center>"
   ]
  },
  {
   "cell_type": "code",
   "execution_count": 1,
   "metadata": {},
   "outputs": [],
   "source": [
    "import tensorflow as tf"
   ]
  },
  {
   "cell_type": "markdown",
   "metadata": {},
   "source": [
    "load data"
   ]
  },
  {
   "cell_type": "code",
   "execution_count": 2,
   "metadata": {},
   "outputs": [
    {
     "name": "stdout",
     "output_type": "stream",
     "text": [
      "Extracting /tmp/data/train-images-idx3-ubyte.gz\n",
      "Extracting /tmp/data/train-labels-idx1-ubyte.gz\n",
      "Extracting /tmp/data/t10k-images-idx3-ubyte.gz\n",
      "Extracting /tmp/data/t10k-labels-idx1-ubyte.gz\n"
     ]
    }
   ],
   "source": [
    "from tensorflow.examples.tutorials.mnist import input_data\n",
    "mnist = input_data.read_data_sets(\"/tmp/data\")"
   ]
  },
  {
   "cell_type": "code",
   "execution_count": 3,
   "metadata": {},
   "outputs": [],
   "source": [
    "# parameters\n",
    "n_inputs = 28*28\n",
    "n_outputs = 10\n",
    "\n",
    "learning_rate = 0.01\n",
    "\n",
    "# n_neurons\n",
    "n_hidden1 = 300\n",
    "n_hidden2 = 200\n",
    "n_hidden3 = 100"
   ]
  },
  {
   "cell_type": "markdown",
   "metadata": {},
   "source": [
    "<b>Construction Phase</b>"
   ]
  },
  {
   "cell_type": "code",
   "execution_count": 4,
   "metadata": {},
   "outputs": [],
   "source": [
    "X = tf.placeholder (name=\"X\", shape=(None, n_inputs), dtype=tf.float32)\n",
    "y = tf.placeholder (name=\"y\", shape=(None), dtype=tf.int64)"
   ]
  },
  {
   "cell_type": "code",
   "execution_count": 5,
   "metadata": {},
   "outputs": [],
   "source": [
    "with tf.name_scope(\"nn\"):\n",
    "    hidden1 = tf.layers.dense(inputs=X, units=n_hidden1, activation=tf.nn.relu, name=\"hidden1\")\n",
    "    hidden2 = tf.layers.dense(inputs=hidden1, units=n_hidden2, activation=tf.nn.relu, name=\"hidden2\")\n",
    "    hidden3 = tf.layers.dense(inputs=hidden2, units=n_hidden3, activation=tf.nn.relu, name=\"hidden3\")\n",
    "    \n",
    "    logits = tf.layers.dense(inputs=hidden3, units=n_outputs, name=\"output\")"
   ]
  },
  {
   "cell_type": "markdown",
   "metadata": {},
   "source": [
    "loss"
   ]
  },
  {
   "cell_type": "code",
   "execution_count": 6,
   "metadata": {},
   "outputs": [],
   "source": [
    "with tf.name_scope(\"loss\"):\n",
    "    cross_entropy = tf.nn.sparse_softmax_cross_entropy_with_logits (labels=y, logits=logits)\n",
    "    loss = tf.reduce_mean(cross_entropy)"
   ]
  },
  {
   "cell_type": "markdown",
   "metadata": {},
   "source": [
    "train"
   ]
  },
  {
   "cell_type": "code",
   "execution_count": 7,
   "metadata": {},
   "outputs": [],
   "source": [
    "with tf.name_scope(\"train\"):\n",
    "    optimizer = tf.train.GradientDescentOptimizer(learning_rate)\n",
    "    training_op = optimizer.minimize(loss)"
   ]
  },
  {
   "cell_type": "markdown",
   "metadata": {},
   "source": [
    "evaluation"
   ]
  },
  {
   "cell_type": "code",
   "execution_count": 8,
   "metadata": {},
   "outputs": [],
   "source": [
    "with tf.name_scope(\"eval\"):\n",
    "    correct = tf.nn.in_top_k(logits, y, 1)\n",
    "    accuracy = tf.reduce_mean(tf.cast(correct, tf.float32))"
   ]
  },
  {
   "cell_type": "code",
   "execution_count": 9,
   "metadata": {},
   "outputs": [],
   "source": [
    "init = tf.global_variables_initializer()\n",
    "saver = tf.train.Saver()"
   ]
  },
  {
   "cell_type": "markdown",
   "metadata": {},
   "source": [
    "<b>Execution Phase</b>"
   ]
  },
  {
   "cell_type": "code",
   "execution_count": 10,
   "metadata": {},
   "outputs": [],
   "source": [
    "# parameters \n",
    "n_epochs = 100\n",
    "batch_size = 50"
   ]
  },
  {
   "cell_type": "markdown",
   "metadata": {},
   "source": [
    "training the model"
   ]
  },
  {
   "cell_type": "code",
   "execution_count": 11,
   "metadata": {},
   "outputs": [
    {
     "name": "stdout",
     "output_type": "stream",
     "text": [
      "epoch:  0   Train accuracy:  0.96   Test accuracy:  0.9068\n",
      "epoch:  1   Train accuracy:  0.92   Test accuracy:  0.9287\n",
      "epoch:  2   Train accuracy:  0.98   Test accuracy:  0.9359\n",
      "epoch:  3   Train accuracy:  0.94   Test accuracy:  0.9421\n",
      "epoch:  4   Train accuracy:  0.96   Test accuracy:  0.949\n",
      "epoch:  5   Train accuracy:  0.98   Test accuracy:  0.9515\n",
      "epoch:  6   Train accuracy:  1.0   Test accuracy:  0.955\n",
      "epoch:  7   Train accuracy:  0.98   Test accuracy:  0.9592\n",
      "epoch:  8   Train accuracy:  0.98   Test accuracy:  0.9624\n",
      "epoch:  9   Train accuracy:  1.0   Test accuracy:  0.9639\n",
      "epoch:  10   Train accuracy:  1.0   Test accuracy:  0.9667\n",
      "epoch:  11   Train accuracy:  0.98   Test accuracy:  0.9665\n",
      "epoch:  12   Train accuracy:  0.98   Test accuracy:  0.9688\n",
      "epoch:  13   Train accuracy:  0.98   Test accuracy:  0.9692\n",
      "epoch:  14   Train accuracy:  0.98   Test accuracy:  0.9708\n",
      "epoch:  15   Train accuracy:  0.98   Test accuracy:  0.9711\n",
      "epoch:  16   Train accuracy:  1.0   Test accuracy:  0.9712\n",
      "epoch:  17   Train accuracy:  1.0   Test accuracy:  0.972\n",
      "epoch:  18   Train accuracy:  1.0   Test accuracy:  0.9721\n",
      "epoch:  19   Train accuracy:  1.0   Test accuracy:  0.9737\n",
      "epoch:  20   Train accuracy:  1.0   Test accuracy:  0.9752\n",
      "epoch:  21   Train accuracy:  1.0   Test accuracy:  0.974\n",
      "epoch:  22   Train accuracy:  0.98   Test accuracy:  0.9742\n",
      "epoch:  23   Train accuracy:  1.0   Test accuracy:  0.9734\n",
      "epoch:  24   Train accuracy:  1.0   Test accuracy:  0.976\n",
      "epoch:  25   Train accuracy:  1.0   Test accuracy:  0.9744\n",
      "epoch:  26   Train accuracy:  1.0   Test accuracy:  0.9764\n",
      "epoch:  27   Train accuracy:  1.0   Test accuracy:  0.9766\n",
      "epoch:  28   Train accuracy:  0.98   Test accuracy:  0.975\n",
      "epoch:  29   Train accuracy:  1.0   Test accuracy:  0.9767\n",
      "epoch:  30   Train accuracy:  0.98   Test accuracy:  0.9769\n",
      "epoch:  31   Train accuracy:  1.0   Test accuracy:  0.9752\n",
      "epoch:  32   Train accuracy:  1.0   Test accuracy:  0.9769\n",
      "epoch:  33   Train accuracy:  1.0   Test accuracy:  0.9752\n",
      "epoch:  34   Train accuracy:  1.0   Test accuracy:  0.9773\n",
      "epoch:  35   Train accuracy:  1.0   Test accuracy:  0.9778\n",
      "epoch:  36   Train accuracy:  1.0   Test accuracy:  0.978\n",
      "epoch:  37   Train accuracy:  1.0   Test accuracy:  0.9759\n",
      "epoch:  38   Train accuracy:  1.0   Test accuracy:  0.9769\n",
      "epoch:  39   Train accuracy:  1.0   Test accuracy:  0.9768\n",
      "epoch:  40   Train accuracy:  1.0   Test accuracy:  0.9779\n",
      "epoch:  41   Train accuracy:  1.0   Test accuracy:  0.977\n",
      "epoch:  42   Train accuracy:  1.0   Test accuracy:  0.9767\n",
      "epoch:  43   Train accuracy:  1.0   Test accuracy:  0.9771\n",
      "epoch:  44   Train accuracy:  1.0   Test accuracy:  0.978\n",
      "epoch:  45   Train accuracy:  1.0   Test accuracy:  0.9772\n",
      "epoch:  46   Train accuracy:  1.0   Test accuracy:  0.9769\n",
      "epoch:  47   Train accuracy:  1.0   Test accuracy:  0.9773\n",
      "epoch:  48   Train accuracy:  1.0   Test accuracy:  0.9771\n",
      "epoch:  49   Train accuracy:  1.0   Test accuracy:  0.9776\n",
      "epoch:  50   Train accuracy:  1.0   Test accuracy:  0.9783\n",
      "epoch:  51   Train accuracy:  1.0   Test accuracy:  0.9776\n",
      "epoch:  52   Train accuracy:  1.0   Test accuracy:  0.9778\n",
      "epoch:  53   Train accuracy:  1.0   Test accuracy:  0.978\n",
      "epoch:  54   Train accuracy:  1.0   Test accuracy:  0.9764\n",
      "epoch:  55   Train accuracy:  1.0   Test accuracy:  0.9775\n",
      "epoch:  56   Train accuracy:  1.0   Test accuracy:  0.9777\n",
      "epoch:  57   Train accuracy:  1.0   Test accuracy:  0.9775\n",
      "epoch:  58   Train accuracy:  1.0   Test accuracy:  0.9779\n",
      "epoch:  59   Train accuracy:  1.0   Test accuracy:  0.9775\n",
      "epoch:  60   Train accuracy:  1.0   Test accuracy:  0.9781\n",
      "epoch:  61   Train accuracy:  1.0   Test accuracy:  0.9782\n",
      "epoch:  62   Train accuracy:  1.0   Test accuracy:  0.9779\n",
      "epoch:  63   Train accuracy:  1.0   Test accuracy:  0.9778\n",
      "epoch:  64   Train accuracy:  1.0   Test accuracy:  0.9782\n",
      "epoch:  65   Train accuracy:  1.0   Test accuracy:  0.9778\n",
      "epoch:  66   Train accuracy:  1.0   Test accuracy:  0.9786\n",
      "epoch:  67   Train accuracy:  1.0   Test accuracy:  0.9781\n",
      "epoch:  68   Train accuracy:  1.0   Test accuracy:  0.9778\n",
      "epoch:  69   Train accuracy:  1.0   Test accuracy:  0.9777\n",
      "epoch:  70   Train accuracy:  1.0   Test accuracy:  0.978\n",
      "epoch:  71   Train accuracy:  1.0   Test accuracy:  0.9783\n",
      "epoch:  72   Train accuracy:  1.0   Test accuracy:  0.9777\n",
      "epoch:  73   Train accuracy:  1.0   Test accuracy:  0.978\n",
      "epoch:  74   Train accuracy:  1.0   Test accuracy:  0.978\n",
      "epoch:  75   Train accuracy:  1.0   Test accuracy:  0.9777\n",
      "epoch:  76   Train accuracy:  1.0   Test accuracy:  0.9781\n",
      "epoch:  77   Train accuracy:  1.0   Test accuracy:  0.9779\n",
      "epoch:  78   Train accuracy:  1.0   Test accuracy:  0.9784\n",
      "epoch:  79   Train accuracy:  1.0   Test accuracy:  0.978\n",
      "epoch:  80   Train accuracy:  1.0   Test accuracy:  0.9778\n",
      "epoch:  81   Train accuracy:  1.0   Test accuracy:  0.9779\n",
      "epoch:  82   Train accuracy:  1.0   Test accuracy:  0.9784\n",
      "epoch:  83   Train accuracy:  1.0   Test accuracy:  0.9784\n",
      "epoch:  84   Train accuracy:  1.0   Test accuracy:  0.9779\n",
      "epoch:  85   Train accuracy:  1.0   Test accuracy:  0.978\n",
      "epoch:  86   Train accuracy:  1.0   Test accuracy:  0.9781\n",
      "epoch:  87   Train accuracy:  1.0   Test accuracy:  0.9781\n",
      "epoch:  88   Train accuracy:  1.0   Test accuracy:  0.9779\n",
      "epoch:  89   Train accuracy:  1.0   Test accuracy:  0.9784\n",
      "epoch:  90   Train accuracy:  1.0   Test accuracy:  0.978\n",
      "epoch:  91   Train accuracy:  1.0   Test accuracy:  0.978\n",
      "epoch:  92   Train accuracy:  1.0   Test accuracy:  0.978\n",
      "epoch:  93   Train accuracy:  1.0   Test accuracy:  0.9783\n",
      "epoch:  94   Train accuracy:  1.0   Test accuracy:  0.9784\n",
      "epoch:  95   Train accuracy:  1.0   Test accuracy:  0.9782\n",
      "epoch:  96   Train accuracy:  1.0   Test accuracy:  0.978\n",
      "epoch:  97   Train accuracy:  1.0   Test accuracy:  0.9778\n",
      "epoch:  98   Train accuracy:  1.0   Test accuracy:  0.9784\n",
      "epoch:  99   Train accuracy:  1.0   Test accuracy:  0.9783\n"
     ]
    }
   ],
   "source": [
    "with tf.Session() as sess:\n",
    "    init.run()\n",
    "    \n",
    "    for epoch in range(n_epochs):\n",
    "        n_batches = mnist.train.num_examples // batch_size\n",
    "        \n",
    "        for itr in range (n_batches):\n",
    "            X_batch, y_batch = mnist.train.next_batch(batch_size)\n",
    "            sess.run(training_op, feed_dict={X:X_batch, y:y_batch})\n",
    "            \n",
    "        acc_train = accuracy.eval(feed_dict={X:X_batch, y:y_batch})\n",
    "        acc_test = accuracy.eval(feed_dict={X:mnist.test.images, y:mnist.test.labels})\n",
    "        \n",
    "        print (\"epoch: \", epoch, \"  Train accuracy: \", acc_train, \"  Test accuracy: \", acc_test)\n",
    "        \n",
    "    save_path = saver.save(sess, \"./mnist_trained.ckpt\")"
   ]
  }
 ],
 "metadata": {
  "kernelspec": {
   "display_name": "Python 3",
   "language": "python",
   "name": "python3"
  },
  "language_info": {
   "codemirror_mode": {
    "name": "ipython",
    "version": 3
   },
   "file_extension": ".py",
   "mimetype": "text/x-python",
   "name": "python",
   "nbconvert_exporter": "python",
   "pygments_lexer": "ipython3",
   "version": "3.6.3"
  }
 },
 "nbformat": 4,
 "nbformat_minor": 2
}
